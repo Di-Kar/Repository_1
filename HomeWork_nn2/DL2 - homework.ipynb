{
 "cells": [
  {
   "cell_type": "code",
   "execution_count": 1,
   "metadata": {
    "executionInfo": {
     "elapsed": 945,
     "status": "ok",
     "timestamp": 1725280862946,
     "user": {
      "displayName": "M",
      "userId": "00222344656684414893"
     },
     "user_tz": -180
    },
    "id": "2K5UM_gqtv0c"
   },
   "outputs": [],
   "source": [
    "# task2.4. Реализовать на базе модели определения пола выявление с другим нормированием (относительно среднего значения). Также добавьте альтернативную функцию активации\n",
    "# task2.5. Реализовать решение уровнения через градиентный спуск: x**2+2x-6\n",
    "# task2.6. (дополнительно) Реализовать решение уровнения через градиентный спуск: x**3+2x**2-6x-1"
   ]
  },
  {
   "cell_type": "code",
   "execution_count": null,
   "metadata": {
    "id": "9Z057psZwJQP"
   },
   "outputs": [],
   "source": []
  }
 ],
 "metadata": {
  "colab": {
   "authorship_tag": "ABX9TyMvHXDSFXur7x9twS+Tz0ee",
   "provenance": []
  },
  "kernelspec": {
   "display_name": "Python 3 (ipykernel)",
   "language": "python",
   "name": "python3"
  },
  "language_info": {
   "codemirror_mode": {
    "name": "ipython",
    "version": 3
   },
   "file_extension": ".py",
   "mimetype": "text/x-python",
   "name": "python",
   "nbconvert_exporter": "python",
   "pygments_lexer": "ipython3",
   "version": "3.9.7"
  }
 },
 "nbformat": 4,
 "nbformat_minor": 4
}
