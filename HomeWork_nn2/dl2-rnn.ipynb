{
 "cells": [
  {
   "cell_type": "markdown",
   "metadata": {},
   "source": [
    "## Loading and Preprocessing Data\n",
    "\n",
    "First, we need to load and preprocess the data. For this example, we'll use the IMDB dataset, which consists of movie reviews labeled as positive or negative.\n",
    "\n",
    "We'll preprocess the data by tokenizing the text and padding the sequences to ensure they have the same length.\n"
   ]
  },
  {
   "cell_type": "code",
   "execution_count": 1,
   "metadata": {
    "execution": {
     "iopub.execute_input": "2024-09-02T12:34:00.565957Z",
     "iopub.status.busy": "2024-09-02T12:34:00.565596Z",
     "iopub.status.idle": "2024-09-02T12:34:21.682654Z",
     "shell.execute_reply": "2024-09-02T12:34:21.681341Z",
     "shell.execute_reply.started": "2024-09-02T12:34:00.565927Z"
    }
   },
   "outputs": [
    {
     "name": "stderr",
     "output_type": "stream",
     "text": [
      "2024-09-02 12:34:02.787815: E external/local_xla/xla/stream_executor/cuda/cuda_dnn.cc:9261] Unable to register cuDNN factory: Attempting to register factory for plugin cuDNN when one has already been registered\n",
      "2024-09-02 12:34:02.787960: E external/local_xla/xla/stream_executor/cuda/cuda_fft.cc:607] Unable to register cuFFT factory: Attempting to register factory for plugin cuFFT when one has already been registered\n",
      "2024-09-02 12:34:02.943692: E external/local_xla/xla/stream_executor/cuda/cuda_blas.cc:1515] Unable to register cuBLAS factory: Attempting to register factory for plugin cuBLAS when one has already been registered\n"
     ]
    },
    {
     "name": "stdout",
     "output_type": "stream",
     "text": [
      "Downloading data from https://storage.googleapis.com/tensorflow/tf-keras-datasets/imdb.npz\n",
      "\u001b[1m17464789/17464789\u001b[0m \u001b[32m━━━━━━━━━━━━━━━━━━━━\u001b[0m\u001b[37m\u001b[0m \u001b[1m2s\u001b[0m 0us/step\n"
     ]
    }
   ],
   "source": [
    "# Loading and Preprocessing Data\n",
    "\n",
    "from tensorflow.keras.datasets import imdb\n",
    "from tensorflow.keras.preprocessing.sequence import pad_sequences\n",
    "\n",
    "# Load the IMDB dataset, keeping only the top 10,000 most frequently occurring words\n",
    "vocab_size = 10000\n",
    "max_length = 200\n",
    "(x_train, y_train), (x_test, y_test) = imdb.load_data(num_words=vocab_size)\n",
    "\n",
    "# Pad the sequences to ensure they have the same length\n",
    "x_train = pad_sequences(x_train, maxlen=max_length)\n",
    "x_test = pad_sequences(x_test, maxlen=max_length)\n"
   ]
  },
  {
   "cell_type": "markdown",
   "metadata": {},
   "source": [
    "## Building the RNN Model\n",
    "\n",
    "Next, we'll build a simple RNN model using TensorFlow and Keras. The model consists of:\n",
    "1. **Embedding Layer:** Converts the input sequences into dense vectors of fixed size.\n",
    "2. **Recurrent Layer (LSTM):** Processes the input sequences and captures long-term dependencies.\n",
    "3. **Dense Layer:** Fully connected layer with 1 neuron and sigmoid activation for binary classification.\n"
   ]
  },
  {
   "cell_type": "code",
   "execution_count": 5,
   "metadata": {
    "execution": {
     "iopub.execute_input": "2024-09-02T12:35:31.275851Z",
     "iopub.status.busy": "2024-09-02T12:35:31.275115Z",
     "iopub.status.idle": "2024-09-02T12:35:31.317171Z",
     "shell.execute_reply": "2024-09-02T12:35:31.315989Z",
     "shell.execute_reply.started": "2024-09-02T12:35:31.275814Z"
    }
   },
   "outputs": [],
   "source": [
    "# Building the RNN Model\n",
    "\n",
    "from tensorflow.keras.models import Sequential\n",
    "from tensorflow.keras.layers import Embedding, LSTM, Dense, SimpleRNN\n",
    "\n",
    "# Initialize a Sequential model\n",
    "model = Sequential()\n",
    "\n",
    "# Add an embedding layer to convert input sequences into dense vectors of fixed size\n",
    "model.add(Embedding(input_dim=vocab_size, output_dim=128))\n",
    "\n",
    "# Add an LSTM layer with 128 units to capture long-term dependencies\n",
    "model.add(SimpleRNN(128))\n",
    "\n",
    "# Add a fully connected layer with 1 neuron and sigmoid activation for binary classification\n",
    "model.add(Dense(1, activation='sigmoid'))\n"
   ]
  },
  {
   "cell_type": "markdown",
   "metadata": {},
   "source": [
    "## Compiling the Model\n",
    "\n",
    "We need to compile the model by specifying the optimizer, loss function, and metrics. We'll use the Adam optimizer, binary crossentropy loss function, and accuracy as the evaluation metric.\n",
    "\n",
    "- **Optimizer (Adam):** Efficient for training deep learning models.\n",
    "- **Loss Function (Binary Crossentropy):** Suitable for binary classification tasks.\n",
    "- **Metrics (Accuracy):** Evaluates the model's performance by calculating the percentage of correctly predicted instances.\n"
   ]
  },
  {
   "cell_type": "code",
   "execution_count": 6,
   "metadata": {
    "execution": {
     "iopub.execute_input": "2024-09-02T12:35:35.245427Z",
     "iopub.status.busy": "2024-09-02T12:35:35.244993Z",
     "iopub.status.idle": "2024-09-02T12:35:35.266544Z",
     "shell.execute_reply": "2024-09-02T12:35:35.265616Z",
     "shell.execute_reply.started": "2024-09-02T12:35:35.245394Z"
    }
   },
   "outputs": [],
   "source": [
    "# Compiling the Model\n",
    "\n",
    "# Compile the model by specifying the optimizer, loss function, and metrics\n",
    "model.compile(optimizer='adam',                        # Adam optimizer\n",
    "              loss='binary_crossentropy',              # Binary crossentropy loss function for binary classification\n",
    "              metrics=['accuracy'])                    # Evaluation metric: accuracy\n"
   ]
  },
  {
   "cell_type": "markdown",
   "metadata": {},
   "source": [
    "## Training the Model\n",
    "\n",
    "Now, we'll train the model using the training data. We'll set the number of epochs to 5 and use 20% of the training data for validation.\n",
    "\n",
    "An epoch is one complete iteration over the entire training data. Validation data is used to evaluate the model's performance on data it hasn't seen during training, helping to detect overfitting.\n"
   ]
  },
  {
   "cell_type": "code",
   "execution_count": null,
   "metadata": {
    "execution": {
     "iopub.execute_input": "2024-09-02T12:39:04.737346Z",
     "iopub.status.busy": "2024-09-02T12:39:04.736931Z"
    }
   },
   "outputs": [
    {
     "name": "stdout",
     "output_type": "stream",
     "text": [
      "Epoch 1/3\n",
      "\u001b[1m413/625\u001b[0m \u001b[32m━━━━━━━━━━━━━\u001b[0m\u001b[37m━━━━━━━\u001b[0m \u001b[1m9s\u001b[0m 46ms/step - accuracy: 0.8082 - loss: 0.4251"
     ]
    }
   ],
   "source": [
    "# Training the Model\n",
    "\n",
    "# Train the model with the training data\n",
    "history = model.fit(x_train,                           # Training data\n",
    "                    y_train,                           # Training labels\n",
    "                    epochs=3,                          # Number of epochs\n",
    "                    validation_split=0.2)              # Use 20% of training data for validation\n"
   ]
  },
  {
   "cell_type": "markdown",
   "metadata": {},
   "source": [
    "## Evaluating the Model\n",
    "\n",
    "After training, we can evaluate the model's performance using the test data. We'll measure the test accuracy to see how well the model generalizes to new data.\n"
   ]
  },
  {
   "cell_type": "code",
   "execution_count": null,
   "metadata": {},
   "outputs": [],
   "source": [
    "# Evaluating the Model\n",
    "\n",
    "# Evaluate the model's performance using the test data\n",
    "test_loss, test_acc = model.evaluate(x_test,           # Test data\n",
    "                                     y_test,           # Test labels\n",
    "                                     verbose=2)        # Verbose output for evaluation\n",
    "print('\\nTest accuracy:', test_acc)                    # Print the test accuracy\n"
   ]
  },
  {
   "cell_type": "markdown",
   "metadata": {},
   "source": [
    "## Visualizing Training Results\n",
    "\n",
    "Let's plot the training and validation accuracy and loss over the epochs to see how the model's performance improved during training.\n",
    "\n",
    "These plots help in understanding the model's learning process and identifying potential issues like overfitting.\n"
   ]
  },
  {
   "cell_type": "code",
   "execution_count": null,
   "metadata": {},
   "outputs": [],
   "source": [
    "# Visualizing Training Results\n",
    "\n",
    "import matplotlib.pyplot as plt\n",
    "\n",
    "# Plot training & validation accuracy values\n",
    "plt.figure(figsize=(12, 4))\n",
    "plt.subplot(1, 2, 1)                                   # Create subplot for accuracy\n",
    "plt.plot(history.history['accuracy'])                  # Plot training accuracy\n",
    "plt.plot(history.history['val_accuracy'])              # Plot validation accuracy\n",
    "plt.title('Model Accuracy')                            # Title of the plot\n",
    "plt.ylabel('Accuracy')                                 # Y-axis label\n",
    "plt.xlabel('Epoch')                                    # X-axis label\n",
    "plt.legend(['Train', 'Validation'], loc='upper left')  # Legend\n",
    "\n",
    "# Plot training & validation loss values\n",
    "plt.subplot(1, 2, 2)                                   # Create subplot for loss\n",
    "plt.plot(history.history['loss'])                      # Plot training loss\n",
    "plt.plot(history.history['val_loss'])                  # Plot validation loss\n",
    "plt.title('Model Loss')                                # Title of the plot\n",
    "plt.ylabel('Loss')                                     # Y-axis label\n",
    "plt.xlabel('Epoch')                                    # X-axis label\n",
    "plt.legend(['Train', 'Validation'], loc='upper left')  # Legend\n",
    "\n",
    "plt.show()                                             # Display the plots\n"
   ]
  },
  {
   "cell_type": "code",
   "execution_count": null,
   "metadata": {},
   "outputs": [],
   "source": []
  }
 ],
 "metadata": {
  "kaggle": {
   "accelerator": "none",
   "dataSources": [],
   "dockerImageVersionId": 30732,
   "isGpuEnabled": false,
   "isInternetEnabled": true,
   "language": "python",
   "sourceType": "notebook"
  },
  "kernelspec": {
   "display_name": "Python 3 (ipykernel)",
   "language": "python",
   "name": "python3"
  },
  "language_info": {
   "codemirror_mode": {
    "name": "ipython",
    "version": 3
   },
   "file_extension": ".py",
   "mimetype": "text/x-python",
   "name": "python",
   "nbconvert_exporter": "python",
   "pygments_lexer": "ipython3",
   "version": "3.9.7"
  }
 },
 "nbformat": 4,
 "nbformat_minor": 4
}
