{
 "cells": [
  {
   "cell_type": "code",
   "execution_count": 147,
   "id": "4f91ef81-78f4-42d0-aa44-50b510e67a07",
   "metadata": {},
   "outputs": [],
   "source": [
    "class Polka:\n",
    "\n",
    "    def __init__(self):\n",
    "        self.books = 0\n",
    "        \n",
    "    def add_book(self):\n",
    "        self.books += 1\n",
    "        print('Книг - ', self.books)\n",
    "        \n",
    "    def del_book(self):\n",
    "        self.books -= 1 \n",
    "        if self.books <= 0 :\n",
    "            print('Полка пустая')\n",
    "            self.books = 0\n",
    "        else:\n",
    "            print('Книг - ', self.books)\n",
    "            \n",
    "    def cnt_books(self):\n",
    "        print('Книг на полке ', self.books)"
   ]
  },
  {
   "cell_type": "code",
   "execution_count": 148,
   "id": "c8ceceff-7f7d-442e-a79f-8622eae36833",
   "metadata": {},
   "outputs": [],
   "source": [
    "d = Polka()"
   ]
  },
  {
   "cell_type": "code",
   "execution_count": 202,
   "id": "6633da00-562c-4e13-ad10-bb99ba9e85be",
   "metadata": {},
   "outputs": [
    {
     "name": "stdout",
     "output_type": "stream",
     "text": [
      "Полка пустая\n"
     ]
    }
   ],
   "source": [
    "d.del_book()"
   ]
  }
 ],
 "metadata": {
  "kernelspec": {
   "display_name": "Python 3 (ipykernel)",
   "language": "python",
   "name": "python3"
  },
  "language_info": {
   "codemirror_mode": {
    "name": "ipython",
    "version": 3
   },
   "file_extension": ".py",
   "mimetype": "text/x-python",
   "name": "python",
   "nbconvert_exporter": "python",
   "pygments_lexer": "ipython3",
   "version": "3.9.7"
  }
 },
 "nbformat": 4,
 "nbformat_minor": 5
}
